{
 "cells": [
  {
   "cell_type": "code",
   "execution_count": 15,
   "metadata": {},
   "outputs": [
    {
     "name": "stdout",
     "output_type": "stream",
     "text": [
      "input10\n",
      "34\n",
      "Press Enter to continue...\n"
     ]
    },
    {
     "data": {
      "text/plain": [
       "''"
      ]
     },
     "execution_count": 15,
     "metadata": {},
     "output_type": "execute_result"
    }
   ],
   "source": [
    "dp = [0,1]\n",
    "\n",
    "def fibonacci(n):\n",
    "    if n < 0:\n",
    "        return 0\n",
    "    elif n == 1:\n",
    "        return 0\n",
    "    elif n == 2:\n",
    "        return 1\n",
    "    elif n<=len(dp):\n",
    "        return dp[n-1]\n",
    "    else:\n",
    "        temp = fibonacci(n-1)+fibonacci(n-2)\n",
    "        dp.append(temp)\n",
    "        return temp\n",
    "    \n",
    "n=input(\"input\")\n",
    "convertedInt = int(n)\n",
    "print(fibonacci(convertedInt)) \n",
    "input(\"Press Enter to continue...\")"
   ]
  }
 ],
 "metadata": {
  "kernelspec": {
   "display_name": "Python 3",
   "language": "python",
   "name": "python3"
  },
  "language_info": {
   "codemirror_mode": {
    "name": "ipython",
    "version": 3
   },
   "file_extension": ".py",
   "mimetype": "text/x-python",
   "name": "python",
   "nbconvert_exporter": "python",
   "pygments_lexer": "ipython3",
   "version": "3.7.4"
  }
 },
 "nbformat": 4,
 "nbformat_minor": 2
}
